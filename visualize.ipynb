{
 "cells": [
  {
   "cell_type": "code",
   "execution_count": null,
   "metadata": {},
   "outputs": [],
   "source": [
    "import os\n",
    "import pickle\n",
    "import pandas as pd\n",
    "from preprocessing import WholeSlideImage, construct_dataset\n",
    "from clustering_analysis import visualise_clusters, significative_cluster_example, patch_closest_to_centroid, save_patch_example, SLIDES_PATH, ROIS_PATH, PATHOLOGIST_ANNOTATIONS_PATH, PATCHES_CLUSTERING_PATH"
   ]
  },
  {
   "cell_type": "markdown",
   "metadata": {},
   "source": [
    "## Construct dataset and features from chosen slide"
   ]
  },
  {
   "cell_type": "code",
   "execution_count": null,
   "metadata": {
    "collapsed": false,
    "jupyter": {
     "outputs_hidden": false
    }
   },
   "outputs": [],
   "source": [
    "dataset_path = \"./dataset.csv\"\n",
    "df, dataset = construct_dataset(dataset_path)"
   ]
  },
  {
   "cell_type": "code",
   "execution_count": null,
   "metadata": {
    "collapsed": false,
    "jupyter": {
     "outputs_hidden": false
    }
   },
   "outputs": [],
   "source": [
    "slide_name = \"L210794\"\n",
    "features_resnet = dataset[dataset.slide_data[dataset.slide_data.slide_id==slide_name].index[0]][0]"
   ]
  },
  {
   "cell_type": "code",
   "execution_count": null,
   "metadata": {
    "collapsed": false,
    "jupyter": {
     "outputs_hidden": false
    }
   },
   "outputs": [],
   "source": [
    "with open(\"./Results/clustering/kmeans_model_cohort_1.pickle\", \"rb\") as fp:\n",
    "    kmeans = pickle.load(fp)\n",
    "with open(\"./Results/clustering/features_matrix_cohort_1.pickle\", \"rb\") as input_file:\n",
    "    features_matrix_dict = pickle.load(input_file)"
   ]
  },
  {
   "cell_type": "code",
   "execution_count": null,
   "metadata": {
    "collapsed": false,
    "jupyter": {
     "outputs_hidden": false
    }
   },
   "outputs": [],
   "source": [
    "features_resnet_normalized = (features_resnet.numpy()-features_matrix_dict[\"mean\"])/features_matrix_dict[\"std\"]"
   ]
  },
  {
   "cell_type": "markdown",
   "metadata": {},
   "source": [
    "## Visualize clustering"
   ]
  },
  {
   "cell_type": "code",
   "execution_count": null,
   "metadata": {
    "collapsed": false,
    "jupyter": {
     "outputs_hidden": false
    }
   },
   "outputs": [],
   "source": [
    "labels = kmeans.predict(features_resnet_normalized)\n",
    "img, mask, ROIs = visualise_clusters(slide_name, labels, coords_filtered = None, label = None)"
   ]
  },
  {
   "cell_type": "code",
   "execution_count": null,
   "metadata": {
    "collapsed": false,
    "jupyter": {
     "outputs_hidden": false
    }
   },
   "outputs": [],
   "source": [
    "import numpy as np\n",
    "import matplotlib.pyplot as plt\n",
    "n_clusters = 8\n",
    "colors = plt.cm.Set1(np.linspace(0, 1, n_clusters))[:, :-1]\n",
    "import matplotlib\n",
    "matplotlib.colors.ListedColormap(colors)"
   ]
  },
  {
   "cell_type": "code",
   "execution_count": null,
   "metadata": {
    "collapsed": false,
    "jupyter": {
     "outputs_hidden": false
    }
   },
   "outputs": [],
   "source": [
    "img.crop(ROIs[0][1:]//8)"
   ]
  },
  {
   "cell_type": "markdown",
   "metadata": {},
   "source": [
    "## Save significative clusters as red shaded patches on whole slide images"
   ]
  },
  {
   "cell_type": "code",
   "execution_count": null,
   "metadata": {
    "collapsed": false,
    "jupyter": {
     "outputs_hidden": false
    }
   },
   "outputs": [],
   "source": [
    "sign_clusters = [6]\n",
    "downscale_lvl = 3\n",
    "n_clusters = 8\n",
    "n_patch = 5"
   ]
  },
  {
   "cell_type": "code",
   "execution_count": null,
   "metadata": {
    "collapsed": false,
    "jupyter": {
     "outputs_hidden": false
    }
   },
   "outputs": [],
   "source": [
    "for sign_cluster in sign_clusters:\n",
    "    output_path = f\"./Results/clustering/slides_cluster_significant/cluster_{sign_cluster}\"\n",
    "    os.makedirs(output_path, exist_ok=True)\n",
    "    for slide_name in df[df.cohort == \"COHORT 1\"].slide_id.unique():\n",
    "        WSI_object = WholeSlideImage(os.path.join(SLIDES_PATH, f\"{slide_name}.mrxs\"), pd.read_csv(ROIS_PATH), PATHOLOGIST_ANNOTATIONS_PATH)\n",
    "        features_resnet = dataset[dataset.slide_data[dataset.slide_data.slide_id==slide_name].index[0]][0]\n",
    "        features_resnet_normalized = (features_resnet.numpy()-features_matrix_dict[\"mean\"])/features_matrix_dict[\"std\"]\n",
    "        labels = kmeans.predict(features_resnet_normalized)\n",
    "        _, mask, ROIs = visualise_clusters(slide_name, labels, label = sign_cluster, downscale_lvl=downscale_lvl)\n",
    "        for roi_index in range(len(ROIs)):\n",
    "            significative_cluster_example(WSI_object, mask, roi_index, downscale_lvl).save(os.path.join(output_path, f\"{slide_name}_roi{roi_index}.png\"))"
   ]
  },
  {
   "cell_type": "markdown",
   "metadata": {},
   "source": [
    "## Save snapchot of patches closest to each cluster centroids for all slides"
   ]
  },
  {
   "cell_type": "code",
   "execution_count": null,
   "metadata": {
    "collapsed": false,
    "jupyter": {
     "outputs_hidden": false
    }
   },
   "outputs": [],
   "source": [
    "save_dir = \"./Results/clustering/patch_closest_to_centroids\"\n",
    "os.makedirs(save_dir, exist_ok=True)\n",
    "for slide_name in df[df.cohort == \"COHORT 1\"].slide_id.unique():\n",
    "        WSI_object = WholeSlideImage(os.path.join(SLIDES_PATH, f\"{slide_name}.mrxs\"), pd.read_csv(ROIS_PATH), PATHOLOGIST_ANNOTATIONS_PATH)\n",
    "        features_resnet = dataset[dataset.slide_data[dataset.slide_data.slide_id==slide_name].index[0]][0]\n",
    "        features_resnet_normalized = (features_resnet.numpy()-features_matrix_dict[\"mean\"])/features_matrix_dict[\"std\"]\n",
    "        labels = kmeans.predict(features_resnet_normalized)\n",
    "        img_clusters, _, _ = visualise_clusters(slide_name, labels)\n",
    "        img_clusters.save(os.path.join(save_dir, f\"{slide_name}_clusters.png\"))\n",
    "        patchs_closest_imgs, labels_in_slide = patch_closest_to_centroid(labels, WSI_object, kmeans, features_resnet_normalized, n_patch=n_patch)\n",
    "        save_patch_example(save_dir, slide_name, patchs_closest_imgs, labels_in_slide, n_clusters=n_clusters, n_patch=n_patch)"
   ]
  },
  {
   "cell_type": "markdown",
   "metadata": {},
   "source": [
    "## Construct UMAP representations"
   ]
  },
  {
   "cell_type": "code",
   "execution_count": null,
   "metadata": {
    "collapsed": false,
    "jupyter": {
     "outputs_hidden": false
    }
   },
   "outputs": [],
   "source": [
    "import umap\n",
    "import h5py\n",
    "import seaborn as sns"
   ]
  },
  {
   "cell_type": "code",
   "execution_count": null,
   "metadata": {
    "collapsed": false,
    "jupyter": {
     "outputs_hidden": false
    }
   },
   "outputs": [],
   "source": [
    "nuclei_csv = pd.read_csv(\"./Results/nuclei/nuclei_features.csv\")"
   ]
  },
  {
   "cell_type": "code",
   "execution_count": null,
   "metadata": {
    "collapsed": false,
    "jupyter": {
     "outputs_hidden": false
    }
   },
   "outputs": [],
   "source": [
    "M = []\n",
    "cohort_1 = df.slide_id[df.cohort == \"COHORT 1\"]\n",
    "for slide_id in cohort_1:\n",
    "    file = h5py.File(os.path.join(PATCHES_CLUSTERING_PATH, 'patches', slide_id + \".h5\"), 'r')\n",
    "    dset = file['coords']\n",
    "    coords = dset[:]\n",
    "    slide_idx = df[df.slide_id == slide_id].index[0]\n",
    "    feats = np.array(dataset[slide_idx][0])\n",
    "    feats = (feats - features_matrix_dict[\"mean\"]) / features_matrix_dict[\"std\"]\n",
    "    labels_clustering = kmeans.predict(feats)\n",
    "    for cluster in np.unique(kmeans.labels_):\n",
    "        feats_in_cluster = feats[labels_clustering == cluster]\n",
    "        M.append(feats_in_cluster)\n",
    "M = np.concatenate(M)"
   ]
  },
  {
   "cell_type": "code",
   "execution_count": null,
   "metadata": {
    "collapsed": false,
    "jupyter": {
     "outputs_hidden": false
    }
   },
   "outputs": [],
   "source": [
    "to_sample = int(M.shape[0]*0.05)\n",
    "np.random.seed(1)\n",
    "sampled_index = np.random.randint(M.shape[0], size=to_sample)\n",
    "M_sample = M[sampled_index, :]"
   ]
  },
  {
   "cell_type": "code",
   "execution_count": null,
   "metadata": {
    "collapsed": false,
    "jupyter": {
     "outputs_hidden": false
    }
   },
   "outputs": [],
   "source": [
    "mapper = umap.UMAP(min_dist=0.2,n_neighbors=20, random_state=1).fit(M_sample)"
   ]
  },
  {
   "cell_type": "code",
   "execution_count": null,
   "metadata": {
    "collapsed": false,
    "jupyter": {
     "outputs_hidden": false
    }
   },
   "outputs": [],
   "source": [
    "sns.set_theme()\n",
    "plt.figure(figsize=(16,16))\n",
    "sns.scatterplot(x=mapper.embedding_[:,0],y=mapper.embedding_[:,1], hue=kmeans.predict(M_sample), palette=list(plt.cm.Set1(np.linspace(0, 1, 7+1))[:, :-1]))\n",
    "plt.legend(title=\"Cluster id:\", prop={'size': 15}, title_fontsize=15)\n",
    "plt.axis('off')\n",
    "plt.savefig(\"./Results/figures_paper/umap_clusters.png\")"
   ]
  },
  {
   "cell_type": "code",
   "execution_count": null,
   "metadata": {
    "collapsed": false,
    "jupyter": {
     "outputs_hidden": false
    }
   },
   "outputs": [],
   "source": [
    "pre_plot = plt.scatter(x=mapper.embedding_[:,0],y=mapper.embedding_[:,1], c=nuclei_csv.loc[sampled_index, :].dab_max_mean, cmap=\"inferno\")\n",
    "plt.close()\n",
    "fig = plt.figure(figsize=(16,16))\n",
    "plot = sns.scatterplot(x=mapper.embedding_[:,0],y=mapper.embedding_[:,1], hue=nuclei_csv.loc[sampled_index, :].dab_max_mean, palette=\"inferno\", legend=None)\n",
    "plt.axis('off')\n",
    "cb = fig.colorbar(pre_plot, ax=plot, cax = fig.add_axes([0.14, 0.74, 0.05, 0.15]),)#0.14, 0.9\n",
    "cb.ax.tick_params(labelsize=15)\n",
    "cb.outline.set_color('white')\n",
    "cb.outline.set_linewidth(2)\n",
    "cb.ax.set_title(\"Maximum DAB intensity (optical density):\",size=15)\n",
    "plt.savefig(\"./Results/figures_paper/umap_dab_intensity.png\")"
   ]
  },
  {
   "cell_type": "code",
   "execution_count": null,
   "metadata": {
    "collapsed": false,
    "jupyter": {
     "outputs_hidden": false
    }
   },
   "outputs": [],
   "source": [
    "fig = plt.figure(figsize=(16,16))\n",
    "nuclei_csv_copy = nuclei_csv.copy()\n",
    "nuclei_csv_copy.loc[nuclei_csv_copy.n_nuclei>3,\"n_nuclei\"] = 4\n",
    "\n",
    "ax = sns.scatterplot(x=mapper.embedding_[:,0],y=mapper.embedding_[:,1], hue=nuclei_csv_copy.loc[sampled_index, :].n_nuclei, palette=\"inferno\")\n",
    "ax.axis(\"off\")\n",
    "h, l = ax.get_legend_handles_labels()\n",
    "ax.legend(handles=h, labels=[\"0\",\"1\",\"2\",\"3\",\"> or = 4\"], title=\"Number of nuclei:\", prop={'size': 15}, title_fontsize=15)\n",
    "plt.savefig(\"./Results/figures_paper/umap_density.png\")"
   ]
  },
  {
   "cell_type": "code",
   "execution_count": null,
   "metadata": {},
   "outputs": [],
   "source": []
  }
 ],
 "metadata": {
  "kernelspec": {
   "display_name": "Python 3 (ipykernel)",
   "language": "python",
   "name": "python3"
  },
  "language_info": {
   "codemirror_mode": {
    "name": "ipython",
    "version": 3
   },
   "file_extension": ".py",
   "mimetype": "text/x-python",
   "name": "python",
   "nbconvert_exporter": "python",
   "pygments_lexer": "ipython3",
   "version": "3.8.13"
  }
 },
 "nbformat": 4,
 "nbformat_minor": 4
}
